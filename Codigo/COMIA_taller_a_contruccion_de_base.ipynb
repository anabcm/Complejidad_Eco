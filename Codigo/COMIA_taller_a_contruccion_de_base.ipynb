{
 "cells": [
  {
   "cell_type": "markdown",
   "metadata": {},
   "source": [
    "<h2>Congreso COMIA-Taller</h2>"
   ]
  },
  {
   "cell_type": "markdown",
   "metadata": {},
   "source": [
    "### Análisis exploratorio "
   ]
  },
  {
   "cell_type": "code",
   "execution_count": 25,
   "metadata": {},
   "outputs": [],
   "source": [
    "#Librerias\n",
    "# Tratamiento de datos\n",
    "# ==============================================================================\n",
    "import numpy as np\n",
    "import pandas as pd\n",
    "import random"
   ]
  },
  {
   "cell_type": "markdown",
   "metadata": {},
   "source": [
    "### Construyendo la base de datos municipal"
   ]
  },
  {
   "cell_type": "code",
   "execution_count": 26,
   "metadata": {},
   "outputs": [
    {
     "data": {
      "text/html": [
       "<div>\n",
       "<style scoped>\n",
       "    .dataframe tbody tr th:only-of-type {\n",
       "        vertical-align: middle;\n",
       "    }\n",
       "\n",
       "    .dataframe tbody tr th {\n",
       "        vertical-align: top;\n",
       "    }\n",
       "\n",
       "    .dataframe thead th {\n",
       "        text-align: right;\n",
       "    }\n",
       "</style>\n",
       "<table border=\"1\" class=\"dataframe\">\n",
       "  <thead>\n",
       "    <tr style=\"text-align: right;\">\n",
       "      <th></th>\n",
       "      <th>Code_INEGI</th>\n",
       "      <th>Municipio</th>\n",
       "      <th>Code_ent</th>\n",
       "    </tr>\n",
       "  </thead>\n",
       "  <tbody>\n",
       "    <tr>\n",
       "      <th>0</th>\n",
       "      <td>01001</td>\n",
       "      <td>Aguascalientes</td>\n",
       "      <td>01</td>\n",
       "    </tr>\n",
       "    <tr>\n",
       "      <th>1</th>\n",
       "      <td>01002</td>\n",
       "      <td>Asientos</td>\n",
       "      <td>01</td>\n",
       "    </tr>\n",
       "    <tr>\n",
       "      <th>2</th>\n",
       "      <td>01003</td>\n",
       "      <td>Calvillo</td>\n",
       "      <td>01</td>\n",
       "    </tr>\n",
       "    <tr>\n",
       "      <th>3</th>\n",
       "      <td>01004</td>\n",
       "      <td>Cosío</td>\n",
       "      <td>01</td>\n",
       "    </tr>\n",
       "    <tr>\n",
       "      <th>4</th>\n",
       "      <td>01010</td>\n",
       "      <td>El Llano</td>\n",
       "      <td>01</td>\n",
       "    </tr>\n",
       "    <tr>\n",
       "      <th>...</th>\n",
       "      <td>...</td>\n",
       "      <td>...</td>\n",
       "      <td>...</td>\n",
       "    </tr>\n",
       "    <tr>\n",
       "      <th>2464</th>\n",
       "      <td>32052</td>\n",
       "      <td>Villa García</td>\n",
       "      <td>32</td>\n",
       "    </tr>\n",
       "    <tr>\n",
       "      <th>2465</th>\n",
       "      <td>32053</td>\n",
       "      <td>Villa González Ortega</td>\n",
       "      <td>32</td>\n",
       "    </tr>\n",
       "    <tr>\n",
       "      <th>2466</th>\n",
       "      <td>32054</td>\n",
       "      <td>Villa Hidalgo</td>\n",
       "      <td>32</td>\n",
       "    </tr>\n",
       "    <tr>\n",
       "      <th>2467</th>\n",
       "      <td>32055</td>\n",
       "      <td>Villanueva</td>\n",
       "      <td>32</td>\n",
       "    </tr>\n",
       "    <tr>\n",
       "      <th>2468</th>\n",
       "      <td>32056</td>\n",
       "      <td>Zacatecas</td>\n",
       "      <td>32</td>\n",
       "    </tr>\n",
       "  </tbody>\n",
       "</table>\n",
       "<p>2469 rows × 3 columns</p>\n",
       "</div>"
      ],
      "text/plain": [
       "     Code_INEGI              Municipio Code_ent\n",
       "0         01001         Aguascalientes       01\n",
       "1         01002               Asientos       01\n",
       "2         01003               Calvillo       01\n",
       "3         01004                  Cosío       01\n",
       "4         01010               El Llano       01\n",
       "...         ...                    ...      ...\n",
       "2464      32052           Villa García       32\n",
       "2465      32053  Villa González Ortega       32\n",
       "2466      32054          Villa Hidalgo       32\n",
       "2467      32055             Villanueva       32\n",
       "2468      32056              Zacatecas       32\n",
       "\n",
       "[2469 rows x 3 columns]"
      ]
     },
     "execution_count": 26,
     "metadata": {},
     "output_type": "execute_result"
    }
   ],
   "source": [
    "# Complejidad: crecimiento a largo plazo\n",
    "# Educación: ANUIES+ENOE+ población alfabeta+Niveles educativos\n",
    "\n",
    "#Tecnologia: inclusión tecnológica+Investigación\n",
    "\n",
    "#Infraestructura: infraestructura publica para la vivienda +índice de marginación+ Aeropuertos+puertos+pasajeros+vuelos\n",
    "#Acumulación de capital: \n",
    "\n",
    "#Lista de municipios para contruir la base de datos\n",
    "municipios=pd.read_csv(\"Municipios.csv\")\n",
    "municipios[\"Code_INEGI\"]=municipios[\"Code_INEGI\"].astype(str).str.zfill(5)\n",
    "municipios[\"Code_ent\"]=municipios[\"Code_INEGI\"].str[:2]\n",
    "municipios"
   ]
  },
  {
   "cell_type": "code",
   "execution_count": 28,
   "metadata": {},
   "outputs": [],
   "source": [
    "#Agregando la ANUIES IMPUTADA\n",
    "ANUIES=pd.read_csv(\"COMIA-datos - anuies_imputado.csv\")\n",
    "ANUIES=ANUIES.rename(columns = {'CVEGEO':'Code_INEGI'})\n",
    "ANUIES[\"Code_INEGI\"]=ANUIES[\"Code_INEGI\"].astype(str).str.zfill(5)\n",
    "municipios=municipios.merge(ANUIES,on='Code_INEGI', how='left')"
   ]
  },
  {
   "cell_type": "code",
   "execution_count": 29,
   "metadata": {},
   "outputs": [],
   "source": [
    "#ENOE\n",
    "ENOE=pd.read_csv(\"ENOE_Municipality-Industry Group.csv\")\n",
    "ENOE[\"Code_INEGI\"]=ENOE[\"Code_INEGI\"].astype(str).str.zfill(5)\n",
    "grupos=ENOE[\"Industry Group\"].unique()\n",
    "\n",
    "for igroup in grupos:\n",
    "    df_grupo=ENOE[ENOE[\"Industry Group\"]==igroup]\n",
    "    df_grupo=df_grupo.rename(columns = {'Workforce':'ENOE_'+str(igroup)})\n",
    "    df_grupo=df_grupo.drop(columns=['Industry Group ID','Municipality',\"Industry Group\"])\n",
    "    municipios=municipios.merge(df_grupo,on='Code_INEGI', how='left')"
   ]
  },
  {
   "cell_type": "code",
   "execution_count": 30,
   "metadata": {},
   "outputs": [],
   "source": [
    "#Población alfabeta\n",
    "Alfabeta=pd.read_csv(\"COMIA-datos - Censo_poblacion_alfabeta.csv\")\n",
    "Alfabeta[\"Codigo_INEGI\"]=Alfabeta[\"Codigo_INEGI\"].astype(str).str.zfill(5)\n",
    "#grupos=ENOE[\"Industry Group\"].unique()\n",
    "Alfabeta=Alfabeta[Alfabeta[\"Alfabeta\"]==\"Yes\"]\n",
    "Alfabeta=Alfabeta.rename(columns = {'Codigo_INEGI':'Code_INEGI','poblacion':'poblacion_alfabeta'})\n",
    "Alfabeta=Alfabeta.drop(columns=['ID_Alfabeta','Muncipio',\"Alfabeta\"])\n",
    "municipios=municipios.merge(Alfabeta,on='Code_INEGI', how='left')"
   ]
  },
  {
   "cell_type": "code",
   "execution_count": 31,
   "metadata": {},
   "outputs": [],
   "source": [
    "#grado de estudios\n",
    "grado_estudios=pd.read_csv(\"COMIA-datos - Censo_grado_de_estudios.csv\")\n",
    "grado_estudios[\"Codigo_INEGI\"]=grado_estudios[\"Codigo_INEGI\"].astype(str).str.zfill(5)\n",
    "grupos=grado_estudios[\"Grado_Academico\"].unique()\n",
    "\n",
    "for igroup in grupos:\n",
    "    df_grado=grado_estudios[grado_estudios[\"Grado_Academico\"]==igroup]                          \n",
    "    df_grado=df_grado.rename(columns = {'Poblacion':'Censo_'+str(igroup),'Codigo_INEGI':'Code_INEGI'})                         \n",
    "    df_grado=df_grado.drop(columns=['ID_Grado_academico','Muncipio','Grado_Academico'])\n",
    "    municipios=municipios.merge(df_grado,on='Code_INEGI', how='left')"
   ]
  },
  {
   "cell_type": "code",
   "execution_count": 32,
   "metadata": {},
   "outputs": [],
   "source": [
    "#IMSS\n",
    "\n",
    "#Agricultura, ganadería, silvicultura, pesca y caza-11\n",
    "IMSS=pd.read_csv(\"IMSS-Municipality-Economic Sector 1 digit.csv\")\n",
    "IMSS[\"Municipality ID\"]=IMSS[\"Municipality ID\"].astype(str).str.zfill(5)\n",
    "sectores_imss=IMSS[\"Economic Sector 1 digit\"].unique()\n",
    "for sector in sectores_imss:\n",
    "    df_sec=IMSS[IMSS[\"Economic Sector 1 digit\"]==sector]\n",
    "    df_sec=df_sec.drop(columns=[\"Municipality\",\"Economic Sector 1 digit\",\"Economic Sector 1 digit ID\"])\n",
    "    df_sec=df_sec.rename(columns = {'Insured People':'IMSS_'+str(sector),'Municipality ID':'Code_INEGI'})\n",
    "    municipios=municipios.merge(df_sec,on='Code_INEGI', how='left')"
   ]
  },
  {
   "cell_type": "code",
   "execution_count": 33,
   "metadata": {},
   "outputs": [],
   "source": [
    "#ventas por internet\n",
    "ventas=pd.read_csv(\"COMIA-datos - unidades_economicas_con_ventas_por_internet.csv\")\n",
    "ventas[\"entidad\"]=ventas[\"entidad\"].astype(str).str.zfill(2)\n",
    "subsectores=ventas[\"subsector\"].unique()\n",
    "\n",
    "for subsec in subsectores:\n",
    "    subsector=ventas[ventas[\"subsector\"]==subsec]\n",
    "    subsector=subsector.rename(columns = {'UE_sin_ventas':'economico_UE_sin_ventas_'+str(subsec),\n",
    "                                        'UE_con_ventas':'economico_UE_con_ventas_'+str(subsec),\n",
    "                                        'entidad':'Code_ent'}) \n",
    "    subsector=subsector.drop(columns=['subsector'])\n",
    "    municipios=municipios.merge(subsector,on='Code_ent', how='left')\n",
    "    "
   ]
  },
  {
   "cell_type": "code",
   "execution_count": 34,
   "metadata": {},
   "outputs": [],
   "source": [
    "#Censo viviendas infraestructura\n",
    "viviendas=pd.read_csv(\"COMIA-datos - Censo_viviendas_infraestructura.csv\")\n",
    "viviendas[\"Code_INEGI\"]=viviendas[\"Code_INEGI\"].str.replace(' ','')\n",
    "viviendas=viviendas.drop(columns=['Municipio','Total'])\n",
    "municipios=municipios.merge(viviendas,on='Code_INEGI', how='left')"
   ]
  },
  {
   "cell_type": "code",
   "execution_count": 35,
   "metadata": {},
   "outputs": [],
   "source": [
    "#marginacion\n",
    "marginacion=pd.read_csv(\"COMIA-datos - CONAPO_Indice_de_marginacion.csv\")\n",
    "marginacion=marginacion[[\"CVE_MUN\",\"IM_2020\",\"GM_2020\"]]\n",
    "marginacion[\"CVE_MUN\"]=marginacion[\"CVE_MUN\"].astype(str).str.zfill(5)\n",
    "marginacion=marginacion.rename(columns={'CVE_MUN':\"Code_INEGI\",\"IM_2020\":\"CONAPO_IM_2020\",\"GM_2020\":\"CONAPO_GM_2020\"})\n",
    "municipios=municipios.merge(marginacion,on='Code_INEGI', how='left')\n"
   ]
  },
  {
   "cell_type": "code",
   "execution_count": 36,
   "metadata": {},
   "outputs": [],
   "source": [
    "#aeropuertos\n",
    "aeropuertos=pd.read_csv(\"COMIA-datos - aeropuertos_imputado_municipios.csv\")\n",
    "aeropuertos[\"cve_ent\"]=aeropuertos[\"cve_ent\"].astype(str).str.zfill(2)\n",
    "aeropuertos[\"cve_mun\"]=aeropuertos[\"cve_mun\"].astype(str).str.zfill(3)\n",
    "aeropuertos[\"Code_INEGI\"]=aeropuertos[\"cve_ent\"]+aeropuertos[\"cve_mun\"]\n",
    "aeropuertos=aeropuertos[[\"Code_INEGI\",\"conteo_aeropuertos\"]]\n",
    "municipios=municipios.merge(aeropuertos,on='Code_INEGI', how='left')"
   ]
  },
  {
   "cell_type": "code",
   "execution_count": 37,
   "metadata": {},
   "outputs": [],
   "source": [
    "#pasajeros\n",
    "pasajeros=pd.read_csv(\"COMIA-datos - pasajeros_imputado_municipios.csv\")\n",
    "pasajeros[\"cve_ent\"]=pasajeros[\"cve_ent\"].astype(str).str.zfill(2)\n",
    "pasajeros[\"cve_mun\"]=pasajeros[\"cve_mun\"].astype(str).str.zfill(3)\n",
    "pasajeros[\"Code_INEGI\"]=pasajeros[\"cve_ent\"]+pasajeros[\"cve_mun\"]\n",
    "pasajeros=pasajeros[[\"Code_INEGI\",\"pasajeros_2019\"]]\n",
    "municipios=municipios.merge(pasajeros,on='Code_INEGI', how='left')"
   ]
  },
  {
   "cell_type": "code",
   "execution_count": 38,
   "metadata": {},
   "outputs": [],
   "source": [
    "#vuelos\n",
    "vuelos=pd.read_csv(\"COMIA-datos - vuelos_imputado_municipíos.csv\")\n",
    "vuelos[\"cve_ent\"]=vuelos[\"cve_ent\"].astype(str).str.zfill(2)\n",
    "vuelos[\"cve_mun\"]=vuelos[\"cve_mun\"].astype(str).str.zfill(3)\n",
    "vuelos[\"Code_INEGI\"]=vuelos[\"cve_ent\"]+vuelos[\"cve_mun\"]\n",
    "vuelos=vuelos[[\"Code_INEGI\",\"vuelos_2019\"]]\n",
    "municipios=municipios.merge(vuelos,on='Code_INEGI', how='left')"
   ]
  },
  {
   "cell_type": "code",
   "execution_count": 39,
   "metadata": {},
   "outputs": [],
   "source": [
    "#Ahora agregamos los ECI\n",
    "\n",
    "ECI=pd.read_csv(\"COMIA-datos - eci_2015_2020_denue.csv\")\n",
    "ECI=ECI.rename(columns={'cvegeo':'Code_INEGI'})\n",
    "ECI=ECI.drop(columns=['nombre'])\n",
    "ECI[\"Code_INEGI\"]=ECI[\"Code_INEGI\"].astype(str).str.zfill(5)\n",
    "municipios=municipios.merge(ECI,on='Code_INEGI', how='left')"
   ]
  },
  {
   "cell_type": "code",
   "execution_count": 40,
   "metadata": {},
   "outputs": [],
   "source": [
    "#guardando la base de datos\n",
    "municipios.to_csv(\"base_de_datos_municipio.csv\",index=False)"
   ]
  },
  {
   "cell_type": "code",
   "execution_count": 41,
   "metadata": {},
   "outputs": [],
   "source": [
    "#venganos la imputación\n",
    "#matriz de distancias\n",
    "centroides=pd.read_csv(\"cenotrides.csv\")\n",
    "centroides.index=centroides[\"CVEGEO\"]\n",
    "\n",
    "#distancia euclidiana\n",
    "from scipy.spatial import distance\n",
    "matriz_distance=pd.DataFrame(distance.cdist(centroides[[\"x\",\"y\"]],centroides[[\"x\",\"y\"]]))\n",
    "\n",
    "matriz_distance.index=centroides[\"CVEGEO\"]\n",
    "matriz_distance= matriz_distance.set_axis(centroides[\"CVEGEO\"],axis=1)"
   ]
  },
  {
   "cell_type": "code",
   "execution_count": 43,
   "metadata": {},
   "outputs": [],
   "source": [
    "matriz_distance.to_csv(\"distancia.csv\")"
   ]
  }
 ],
 "metadata": {
  "kernelspec": {
   "display_name": "Python 3",
   "language": "python",
   "name": "python3"
  },
  "language_info": {
   "codemirror_mode": {
    "name": "ipython",
    "version": 3
   },
   "file_extension": ".py",
   "mimetype": "text/x-python",
   "name": "python",
   "nbconvert_exporter": "python",
   "pygments_lexer": "ipython3",
   "version": "3.8.5"
  }
 },
 "nbformat": 4,
 "nbformat_minor": 4
}
